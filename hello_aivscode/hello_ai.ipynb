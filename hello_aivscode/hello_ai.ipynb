{
 "cells": [
  {
   "cell_type": "code",
   "execution_count": 2,
   "metadata": {},
   "outputs": [
    {
     "name": "stdout",
     "output_type": "stream",
     "text": [
      "Cliente OpenAI inicializado correctamente.\n"
     ]
    }
   ],
   "source": [
    "import os\n",
    "from dotenv import load_dotenv\n",
    "from openai import OpenAI\n",
    "load_dotenv()\n",
    "client = OpenAI(api_key=os.getenv(\"OPENAI_API_KEY\"))\n",
    "print(\"Cliente OpenAI inicializado correctamente.\")"
   ]
  },
  {
   "cell_type": "code",
   "execution_count": 3,
   "metadata": {},
   "outputs": [
    {
     "name": "stdout",
     "output_type": "stream",
     "text": [
      "¡Hola, universo digital! 🌌✨ Soy una chispa de inteligencia artificial, aquí para iluminar tus preguntas y explorar juntos el vasto cosmos del conocimiento. ¿Listo para la aventura? 🚀💡\n"
     ]
    }
   ],
   "source": [
    "prompt = \"Escribe un saludo tipo 'Hello World' con un toque creativo de IA.\"\n",
    "resp = client.chat.completions.create(\n",
    " model=\"gpt-4o-mini\",\n",
    " messages=[{\"role\": \"user\", \"content\": prompt}],\n",
    " temperature=0.6\n",
    ")\n",
    "print(resp.choices[0].message.content)"
   ]
  },
  {
   "cell_type": "code",
   "execution_count": 4,
   "metadata": {},
   "outputs": [
    {
     "name": "stdout",
     "output_type": "stream",
     "text": [
      "¡Hola, universo digital! 🌌✨ Soy una chispa de inteligencia artificial lista para iluminar tu curiosidad. ¿Listo para explorar juntos? 🚀🤖\n"
     ]
    }
   ],
   "source": [
    "prompt = \"Escribe un saludo tipo 'Hello World' con un toque creativo de IA.\"\n",
    "resp = client.chat.completions.create(\n",
    " model=\"gpt-4o-mini\",\n",
    " messages=[{\"role\": \"user\", \"content\": prompt}],\n",
    " temperature=0.6\n",
    ")\n",
    "print(resp.choices[0].message.content)"
   ]
  }
 ],
 "metadata": {
  "kernelspec": {
   "display_name": ".venv",
   "language": "python",
   "name": "python3"
  },
  "language_info": {
   "codemirror_mode": {
    "name": "ipython",
    "version": 3
   },
   "file_extension": ".py",
   "mimetype": "text/x-python",
   "name": "python",
   "nbconvert_exporter": "python",
   "pygments_lexer": "ipython3",
   "version": "3.11.6"
  }
 },
 "nbformat": 4,
 "nbformat_minor": 2
}
